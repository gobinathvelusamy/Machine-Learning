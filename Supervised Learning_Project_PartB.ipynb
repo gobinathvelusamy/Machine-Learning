{
 "cells": [
  {
   "cell_type": "code",
   "execution_count": 1,
   "id": "1875212e",
   "metadata": {},
   "outputs": [],
   "source": [
    "import numpy as np\n",
    "import pandas as pd\n",
    "import matplotlib.pyplot as plt\n",
    "import scipy.stats as stats;\n",
    "import seaborn as sns;\n",
    "from sklearn.model_selection import train_test_split\n",
    "from sklearn.neighbors import KNeighborsClassifier\n",
    "from sklearn.metrics import classification_report\n",
    "from sklearn.linear_model import LogisticRegression\n",
    "from sklearn.metrics import accuracy_score, confusion_matrix\n",
    "from scipy.stats import zscore\n",
    "from imblearn.over_sampling import RandomOverSampler\n",
    "from imblearn.over_sampling import SMOTE\n",
    "from imblearn.over_sampling import SMOTENC\n",
    "from sklearn.svm import SVC"
   ]
  },
  {
   "cell_type": "markdown",
   "id": "fe5385b3",
   "metadata": {},
   "source": [
    "# 1.Data Understanding and Preparation"
   ]
  },
  {
   "cell_type": "markdown",
   "id": "7d2e509f",
   "metadata": {},
   "source": [
    "1.A Read both the Datasets ‘Data1’ and ‘Data 2’ as DataFrame and store them into two separate variables."
   ]
  },
  {
   "cell_type": "code",
   "execution_count": 2,
   "id": "edf690db",
   "metadata": {},
   "outputs": [],
   "source": [
    "df_1=pd.read_csv(\"Data1.csv\")\n",
    "df_2=pd.read_csv(\"Data2.csv\")"
   ]
  },
  {
   "cell_type": "markdown",
   "id": "3612f739",
   "metadata": {},
   "source": [
    "1.B Print shape and Column Names and DataTypes of both the Dataframes"
   ]
  },
  {
   "cell_type": "code",
   "execution_count": 4,
   "id": "99cb4faf",
   "metadata": {},
   "outputs": [
    {
     "name": "stdout",
     "output_type": "stream",
     "text": [
      "First Data frame Shape (5000, 8)\n",
      "First Data frame Columns Index(['ID', 'Age', 'CustomerSince', 'HighestSpend', 'ZipCode', 'HiddenScore',\n",
      "       'MonthlyAverageSpend', 'Level'],\n",
      "      dtype='object')\n",
      "Second Data frame Shape (5000, 7)\n",
      "Second Data frame Columns Index(['ID', 'Mortgage', 'Security', 'FixedDepositAccount', 'InternetBanking',\n",
      "       'CreditCard', 'LoanOnCard'],\n",
      "      dtype='object')\n"
     ]
    }
   ],
   "source": [
    "print(\"First Data frame Shape\",df_1.shape)\n",
    "print(\"First Data frame Columns\",df_1.columns)\n",
    "print(\"Second Data frame Shape\",df_2.shape)\n",
    "print(\"Second Data frame Columns\",df_2.columns)"
   ]
  },
  {
   "cell_type": "markdown",
   "id": "0d85c4fb",
   "metadata": {},
   "source": [
    "1.C Merge both the Dataframes on ‘ID’ feature to form a single DataFrame"
   ]
  },
  {
   "cell_type": "code",
   "execution_count": 5,
   "id": "bcd92026",
   "metadata": {},
   "outputs": [],
   "source": [
    "df=df_1.merge(df_2,left_on='ID',right_on='ID') "
   ]
  },
  {
   "cell_type": "code",
   "execution_count": 9,
   "id": "1be45ee8",
   "metadata": {},
   "outputs": [
    {
     "data": {
      "text/plain": [
       "(5000, 14)"
      ]
     },
     "execution_count": 9,
     "metadata": {},
     "output_type": "execute_result"
    }
   ],
   "source": [
    "df.shape"
   ]
  },
  {
   "cell_type": "markdown",
   "id": "b454decd",
   "metadata": {},
   "source": [
    "1.D Change Datatype of below features to ‘Object’ \n",
    "‘CreditCard’, ‘InternetBanking’, ‘FixedDepositAccount’, ‘Security’, ‘Level’, ‘HiddenScore’."
   ]
  },
  {
   "cell_type": "code",
   "execution_count": 10,
   "id": "5006803f",
   "metadata": {},
   "outputs": [],
   "source": [
    "col=['HiddenScore','Level','Security','FixedDepositAccount', 'InternetBanking', 'CreditCard']\n",
    "for i in col:\n",
    "    df[i]=df[i].astype('category')"
   ]
  },
  {
   "cell_type": "code",
   "execution_count": 11,
   "id": "83d9e10e",
   "metadata": {},
   "outputs": [
    {
     "name": "stdout",
     "output_type": "stream",
     "text": [
      "<class 'pandas.core.frame.DataFrame'>\n",
      "Int64Index: 5000 entries, 0 to 4999\n",
      "Data columns (total 14 columns):\n",
      " #   Column               Non-Null Count  Dtype   \n",
      "---  ------               --------------  -----   \n",
      " 0   ID                   5000 non-null   int64   \n",
      " 1   Age                  5000 non-null   int64   \n",
      " 2   CustomerSince        5000 non-null   int64   \n",
      " 3   HighestSpend         5000 non-null   int64   \n",
      " 4   ZipCode              5000 non-null   int64   \n",
      " 5   HiddenScore          5000 non-null   category\n",
      " 6   MonthlyAverageSpend  5000 non-null   float64 \n",
      " 7   Level                5000 non-null   category\n",
      " 8   Mortgage             5000 non-null   int64   \n",
      " 9   Security             5000 non-null   category\n",
      " 10  FixedDepositAccount  5000 non-null   category\n",
      " 11  InternetBanking      5000 non-null   category\n",
      " 12  CreditCard           5000 non-null   category\n",
      " 13  LoanOnCard           4980 non-null   float64 \n",
      "dtypes: category(6), float64(2), int64(6)\n",
      "memory usage: 381.7 KB\n"
     ]
    }
   ],
   "source": [
    "df.info()"
   ]
  },
  {
   "cell_type": "markdown",
   "id": "617c36ed",
   "metadata": {},
   "source": [
    "# 2.Data Exploration and Analysis:"
   ]
  },
  {
   "cell_type": "markdown",
   "id": "c36327de",
   "metadata": {},
   "source": [
    "2.A Visualize distribution of Target variable ‘LoanOnCard’ and clearly share insights. "
   ]
  },
  {
   "cell_type": "code",
   "execution_count": 79,
   "id": "e7833e4e",
   "metadata": {},
   "outputs": [
    {
     "name": "stderr",
     "output_type": "stream",
     "text": [
      "/opt/anaconda3/lib/python3.9/site-packages/seaborn/_decorators.py:36: FutureWarning: Pass the following variable as a keyword arg: x. From version 0.12, the only valid positional argument will be `data`, and passing other arguments without an explicit keyword will result in an error or misinterpretation.\n",
      "  warnings.warn(\n"
     ]
    },
    {
     "data": {
      "image/png": "[encoded data removed]",
      "text/plain": [
       "<Figure size 1224x504 with 2 Axes>"
      ]
     },
     "metadata": {
      "needs_background": "light"
     },
     "output_type": "display_data"
    }
   ],
   "source": [
    "f,axes=plt.subplots(1,2,figsize=(17,7))\n",
    "df['LoanOnCard'].value_counts().plot.pie(autopct='%1.1f%%',ax=axes[0],shadow=True)\n",
    "sns.countplot('LoanOnCard',data=df,ax=axes[1],order=[0,1])\n",
    "axes[0].set_title('LoanOnCard Variable Pie Chart')\n",
    "axes[1].set_title('LoanOnCard Variable Bar Graph')\n",
    "plt.show()"
   ]
  },
  {
   "cell_type": "markdown",
   "id": "0c04b6c7",
   "metadata": {},
   "source": [
    "Observation : \n",
    "\n",
    "There is huge imbalance in target variable.\n",
    "\n",
    "If the imbalanced data is not treated beforehand, then this will degrade the performance of the classifier model. Most of the predictions will correspond to the majority class and treat the minority class features as noise in the data and ignore them. This will result in a high bias in the model."
   ]
  },
  {
   "cell_type": "markdown",
   "id": "235be5c0",
   "metadata": {},
   "source": [
    "2.B Check the percentage of missing values and impute if required"
   ]
  },
  {
   "cell_type": "code",
   "execution_count": 12,
   "id": "da70ee82",
   "metadata": {},
   "outputs": [
    {
     "data": {
      "text/plain": [
       "ID                      0\n",
       "Age                     0\n",
       "CustomerSince           0\n",
       "HighestSpend            0\n",
       "ZipCode                 0\n",
       "HiddenScore             0\n",
       "MonthlyAverageSpend     0\n",
       "Level                   0\n",
       "Mortgage                0\n",
       "Security                0\n",
       "FixedDepositAccount     0\n",
       "InternetBanking         0\n",
       "CreditCard              0\n",
       "LoanOnCard             20\n",
       "dtype: int64"
      ]
     },
     "execution_count": 12,
     "metadata": {},
     "output_type": "execute_result"
    }
   ],
   "source": [
    "df.isnull().sum()"
   ]
  },
  {
   "cell_type": "markdown",
   "id": "7aa93e85",
   "metadata": {},
   "source": [
    "Observation :\n",
    "    We have very less missing value so we will drop the missing records."
   ]
  },
  {
   "cell_type": "code",
   "execution_count": 13,
   "id": "994023d4",
   "metadata": {},
   "outputs": [],
   "source": [
    "df.dropna(axis=0,inplace=True)"
   ]
  },
  {
   "cell_type": "code",
   "execution_count": 14,
   "id": "85215d6e",
   "metadata": {},
   "outputs": [
    {
     "data": {
      "text/plain": [
       "ID                     0\n",
       "Age                    0\n",
       "CustomerSince          0\n",
       "HighestSpend           0\n",
       "ZipCode                0\n",
       "HiddenScore            0\n",
       "MonthlyAverageSpend    0\n",
       "Level                  0\n",
       "Mortgage               0\n",
       "Security               0\n",
       "FixedDepositAccount    0\n",
       "InternetBanking        0\n",
       "CreditCard             0\n",
       "LoanOnCard             0\n",
       "dtype: int64"
      ]
     },
     "execution_count": 14,
     "metadata": {},
     "output_type": "execute_result"
    }
   ],
   "source": [
    "df.isnull().sum()"
   ]
  },
  {
   "cell_type": "code",
   "execution_count": 84,
   "id": "80aaa5d0",
   "metadata": {},
   "outputs": [
    {
     "name": "stdout",
     "output_type": "stream",
     "text": [
      "<class 'pandas.core.frame.DataFrame'>\n",
      "Int64Index: 4980 entries, 9 to 4999\n",
      "Data columns (total 14 columns):\n",
      " #   Column               Non-Null Count  Dtype   \n",
      "---  ------               --------------  -----   \n",
      " 0   ID                   4980 non-null   int64   \n",
      " 1   Age                  4980 non-null   int64   \n",
      " 2   CustomerSince        4980 non-null   int64   \n",
      " 3   HighestSpend         4980 non-null   int64   \n",
      " 4   ZipCode              4980 non-null   int64   \n",
      " 5   HiddenScore          4980 non-null   category\n",
      " 6   MonthlyAverageSpend  4980 non-null   float64 \n",
      " 7   Level                4980 non-null   category\n",
      " 8   Mortgage             4980 non-null   int64   \n",
      " 9   Security             4980 non-null   category\n",
      " 10  FixedDepositAccount  4980 non-null   category\n",
      " 11  InternetBanking      4980 non-null   category\n",
      " 12  CreditCard           4980 non-null   category\n",
      " 13  LoanOnCard           4980 non-null   float64 \n",
      "dtypes: category(6), float64(2), int64(6)\n",
      "memory usage: 380.1 KB\n"
     ]
    }
   ],
   "source": [
    "df.info()"
   ]
  },
  {
   "cell_type": "code",
   "execution_count": 15,
   "id": "ef82561e",
   "metadata": {},
   "outputs": [],
   "source": [
    "df['LoanOnCard']=df['LoanOnCard'].astype('int64')"
   ]
  },
  {
   "cell_type": "code",
   "execution_count": 16,
   "id": "cc13112e",
   "metadata": {},
   "outputs": [
    {
     "name": "stdout",
     "output_type": "stream",
     "text": [
      "<class 'pandas.core.frame.DataFrame'>\n",
      "Int64Index: 4980 entries, 9 to 4999\n",
      "Data columns (total 14 columns):\n",
      " #   Column               Non-Null Count  Dtype   \n",
      "---  ------               --------------  -----   \n",
      " 0   ID                   4980 non-null   int64   \n",
      " 1   Age                  4980 non-null   int64   \n",
      " 2   CustomerSince        4980 non-null   int64   \n",
      " 3   HighestSpend         4980 non-null   int64   \n",
      " 4   ZipCode              4980 non-null   int64   \n",
      " 5   HiddenScore          4980 non-null   category\n",
      " 6   MonthlyAverageSpend  4980 non-null   float64 \n",
      " 7   Level                4980 non-null   category\n",
      " 8   Mortgage             4980 non-null   int64   \n",
      " 9   Security             4980 non-null   category\n",
      " 10  FixedDepositAccount  4980 non-null   category\n",
      " 11  InternetBanking      4980 non-null   category\n",
      " 12  CreditCard           4980 non-null   category\n",
      " 13  LoanOnCard           4980 non-null   int64   \n",
      "dtypes: category(6), float64(1), int64(7)\n",
      "memory usage: 380.1 KB\n"
     ]
    }
   ],
   "source": [
    "df.info()"
   ]
  },
  {
   "cell_type": "code",
   "execution_count": 17,
   "id": "221c674a",
   "metadata": {},
   "outputs": [
    {
     "data": {
      "text/html": [
       "<div>\n",
       "<style scoped>\n",
       "    .dataframe tbody tr th:only-of-type {\n",
       "        vertical-align: middle;\n",
       "    }\n",
       "\n",
       "    .dataframe tbody tr th {\n",
       "        vertical-align: top;\n",
       "    }\n",
       "\n",
       "    .dataframe thead th {\n",
       "        text-align: right;\n",
       "    }\n",
       "</style>\n",
       "<table border=\"1\" class=\"dataframe\">\n",
       "  <thead>\n",
       "    <tr style=\"text-align: right;\">\n",
       "      <th></th>\n",
       "      <th>ID</th>\n",
       "      <th>Age</th>\n",
       "      <th>CustomerSince</th>\n",
       "      <th>HighestSpend</th>\n",
       "      <th>ZipCode</th>\n",
       "      <th>HiddenScore</th>\n",
       "      <th>MonthlyAverageSpend</th>\n",
       "      <th>Level</th>\n",
       "      <th>Mortgage</th>\n",
       "      <th>Security</th>\n",
       "      <th>FixedDepositAccount</th>\n",
       "      <th>InternetBanking</th>\n",
       "      <th>CreditCard</th>\n",
       "      <th>LoanOnCard</th>\n",
       "    </tr>\n",
       "  </thead>\n",
       "  <tbody>\n",
       "    <tr>\n",
       "      <th>9</th>\n",
       "      <td>10</td>\n",
       "      <td>34</td>\n",
       "      <td>9</td>\n",
       "      <td>180</td>\n",
       "      <td>93023</td>\n",
       "      <td>1</td>\n",
       "      <td>8.9</td>\n",
       "      <td>3</td>\n",
       "      <td>0</td>\n",
       "      <td>0</td>\n",
       "      <td>0</td>\n",
       "      <td>0</td>\n",
       "      <td>0</td>\n",
       "      <td>1</td>\n",
       "    </tr>\n",
       "    <tr>\n",
       "      <th>10</th>\n",
       "      <td>11</td>\n",
       "      <td>65</td>\n",
       "      <td>39</td>\n",
       "      <td>105</td>\n",
       "      <td>94710</td>\n",
       "      <td>4</td>\n",
       "      <td>2.4</td>\n",
       "      <td>3</td>\n",
       "      <td>0</td>\n",
       "      <td>0</td>\n",
       "      <td>0</td>\n",
       "      <td>0</td>\n",
       "      <td>0</td>\n",
       "      <td>0</td>\n",
       "    </tr>\n",
       "    <tr>\n",
       "      <th>11</th>\n",
       "      <td>12</td>\n",
       "      <td>29</td>\n",
       "      <td>5</td>\n",
       "      <td>45</td>\n",
       "      <td>90277</td>\n",
       "      <td>3</td>\n",
       "      <td>0.1</td>\n",
       "      <td>2</td>\n",
       "      <td>0</td>\n",
       "      <td>0</td>\n",
       "      <td>0</td>\n",
       "      <td>1</td>\n",
       "      <td>0</td>\n",
       "      <td>0</td>\n",
       "    </tr>\n",
       "    <tr>\n",
       "      <th>12</th>\n",
       "      <td>13</td>\n",
       "      <td>48</td>\n",
       "      <td>23</td>\n",
       "      <td>114</td>\n",
       "      <td>93106</td>\n",
       "      <td>2</td>\n",
       "      <td>3.8</td>\n",
       "      <td>3</td>\n",
       "      <td>0</td>\n",
       "      <td>1</td>\n",
       "      <td>0</td>\n",
       "      <td>0</td>\n",
       "      <td>0</td>\n",
       "      <td>0</td>\n",
       "    </tr>\n",
       "    <tr>\n",
       "      <th>13</th>\n",
       "      <td>14</td>\n",
       "      <td>59</td>\n",
       "      <td>32</td>\n",
       "      <td>40</td>\n",
       "      <td>94920</td>\n",
       "      <td>4</td>\n",
       "      <td>2.5</td>\n",
       "      <td>2</td>\n",
       "      <td>0</td>\n",
       "      <td>0</td>\n",
       "      <td>0</td>\n",
       "      <td>1</td>\n",
       "      <td>0</td>\n",
       "      <td>0</td>\n",
       "    </tr>\n",
       "  </tbody>\n",
       "</table>\n",
       "</div>"
      ],
      "text/plain": [
       "    ID  Age  CustomerSince  HighestSpend  ZipCode HiddenScore  \\\n",
       "9   10   34              9           180    93023           1   \n",
       "10  11   65             39           105    94710           4   \n",
       "11  12   29              5            45    90277           3   \n",
       "12  13   48             23           114    93106           2   \n",
       "13  14   59             32            40    94920           4   \n",
       "\n",
       "    MonthlyAverageSpend Level  Mortgage Security FixedDepositAccount  \\\n",
       "9                   8.9     3         0        0                   0   \n",
       "10                  2.4     3         0        0                   0   \n",
       "11                  0.1     2         0        0                   0   \n",
       "12                  3.8     3         0        1                   0   \n",
       "13                  2.5     2         0        0                   0   \n",
       "\n",
       "   InternetBanking CreditCard  LoanOnCard  \n",
       "9                0          0           1  \n",
       "10               0          0           0  \n",
       "11               1          0           0  \n",
       "12               0          0           0  \n",
       "13               1          0           0  "
      ]
     },
     "execution_count": 17,
     "metadata": {},
     "output_type": "execute_result"
    }
   ],
   "source": [
    "df.head()"
   ]
  },
  {
   "cell_type": "code",
   "execution_count": 18,
   "id": "ee7f583b",
   "metadata": {},
   "outputs": [],
   "source": [
    "df['LoanOnCard'] =df['LoanOnCard'].astype('category')"
   ]
  },
  {
   "cell_type": "markdown",
   "id": "62dbf4bc",
   "metadata": {},
   "source": [
    "C. Check for unexpected values in each categorical variable and impute with best suitable value. [2 Marks]"
   ]
  },
  {
   "cell_type": "code",
   "execution_count": 20,
   "id": "486ea238",
   "metadata": {},
   "outputs": [
    {
     "data": {
      "text/plain": [
       "1    1466\n",
       "2    1293\n",
       "4    1215\n",
       "3    1006\n",
       "Name: HiddenScore, dtype: int64"
      ]
     },
     "execution_count": 20,
     "metadata": {},
     "output_type": "execute_result"
    }
   ],
   "source": [
    "df['HiddenScore'].value_counts()"
   ]
  },
  {
   "cell_type": "code",
   "execution_count": 21,
   "id": "fba000f1",
   "metadata": {},
   "outputs": [
    {
     "name": "stderr",
     "output_type": "stream",
     "text": [
      "/opt/anaconda3/lib/python3.9/site-packages/seaborn/_decorators.py:36: FutureWarning: Pass the following variable as a keyword arg: x. From version 0.12, the only valid positional argument will be `data`, and passing other arguments without an explicit keyword will result in an error or misinterpretation.\n",
      "  warnings.warn(\n"
     ]
    },
    {
     "data": {
      "text/plain": [
       "<AxesSubplot:xlabel='HiddenScore', ylabel='count'>"
      ]
     },
     "execution_count": 21,
     "metadata": {},
     "output_type": "execute_result"
    },
    {
     "data": {
      "image/png": "[encoded data removed]",
      "text/plain": [
       "<Figure size 1080x504 with 1 Axes>"
      ]
     },
     "metadata": {
      "needs_background": "light"
     },
     "output_type": "display_data"
    }
   ],
   "source": [
    "plt.figure(figsize=(15,7))\n",
    "sns.countplot(df['HiddenScore'],hue=df['LoanOnCard'])"
   ]
  },
  {
   "cell_type": "markdown",
   "id": "ffc43010",
   "metadata": {},
   "source": [
    "Hidden score is more for non-loan holders"
   ]
  },
  {
   "cell_type": "code",
   "execution_count": 27,
   "id": "345a7090",
   "metadata": {},
   "outputs": [
    {
     "data": {
      "text/plain": [
       "1    2089\n",
       "3    1496\n",
       "2    1395\n",
       "Name: Level, dtype: int64"
      ]
     },
     "execution_count": 27,
     "metadata": {},
     "output_type": "execute_result"
    }
   ],
   "source": [
    "df_cleanse['Level'].value_counts()"
   ]
  },
  {
   "cell_type": "code",
   "execution_count": 22,
   "id": "95387dec",
   "metadata": {},
   "outputs": [
    {
     "data": {
      "text/plain": [
       "<AxesSubplot:xlabel='Level', ylabel='count'>"
      ]
     },
     "execution_count": 22,
     "metadata": {},
     "output_type": "execute_result"
    },
    {
     "data": {
      "image/png": "[encoded data removed]",
      "text/plain": [
       "<Figure size 1080x504 with 1 Axes>"
      ]
     },
     "metadata": {
      "needs_background": "light"
     },
     "output_type": "display_data"
    }
   ],
   "source": [
    "plt.figure(figsize=(15,7))\n",
    "sns.countplot(df['Level'],hue=df['LoanOnCard'])"
   ]
  },
  {
   "cell_type": "markdown",
   "id": "9e5e9ff6",
   "metadata": {},
   "source": [
    "Level 1 has minimum number of loan holders\n",
    "\n",
    "Loan holders in Level 2 and 3 are nearly equal"
   ]
  },
  {
   "cell_type": "code",
   "execution_count": 28,
   "id": "1efa68fa",
   "metadata": {},
   "outputs": [
    {
     "data": {
      "text/plain": [
       "0    4460\n",
       "1     520\n",
       "Name: Security, dtype: int64"
      ]
     },
     "execution_count": 28,
     "metadata": {},
     "output_type": "execute_result"
    }
   ],
   "source": [
    "df_cleanse['Security'].value_counts()"
   ]
  },
  {
   "cell_type": "code",
   "execution_count": 23,
   "id": "518113a8",
   "metadata": {},
   "outputs": [
    {
     "data": {
      "text/plain": [
       "<AxesSubplot:xlabel='Security', ylabel='count'>"
      ]
     },
     "execution_count": 23,
     "metadata": {},
     "output_type": "execute_result"
    },
    {
     "data": {
      "image/png": "[encoded data removed]",
      "text/plain": [
       "<Figure size 1080x504 with 1 Axes>"
      ]
     },
     "metadata": {
      "needs_background": "light"
     },
     "output_type": "display_data"
    }
   ],
   "source": [
    "plt.figure(figsize=(15,7))\n",
    "sns.countplot(df['Security'],hue=df['LoanOnCard'])"
   ]
  },
  {
   "cell_type": "markdown",
   "id": "3057ec5b",
   "metadata": {},
   "source": [
    "It is surprisingly to see more customers those who have loan does not have any security\n",
    "\n",
    "Security of loan holders are very less"
   ]
  },
  {
   "cell_type": "code",
   "execution_count": 29,
   "id": "6be39c27",
   "metadata": {},
   "outputs": [
    {
     "data": {
      "text/plain": [
       "0    4678\n",
       "1     302\n",
       "Name: FixedDepositAccount, dtype: int64"
      ]
     },
     "execution_count": 29,
     "metadata": {},
     "output_type": "execute_result"
    }
   ],
   "source": [
    "df_cleanse['FixedDepositAccount'].value_counts()"
   ]
  },
  {
   "cell_type": "code",
   "execution_count": 24,
   "id": "38c4f8e8",
   "metadata": {},
   "outputs": [
    {
     "data": {
      "image/png": "[encoded data removed]",
      "text/plain": [
       "<Figure size 1080x504 with 1 Axes>"
      ]
     },
     "metadata": {
      "needs_background": "light"
     },
     "output_type": "display_data"
    }
   ],
   "source": [
    "plt.figure(figsize=(15,7))\n",
    "sns.countplot(df['FixedDepositAccount'],hue=df['LoanOnCard'])\n",
    "plt.show()"
   ]
  },
  {
   "cell_type": "markdown",
   "id": "7413a75d",
   "metadata": {},
   "source": [
    "Count of non loan holders are more\n"
   ]
  },
  {
   "cell_type": "code",
   "execution_count": 30,
   "id": "86b72789",
   "metadata": {},
   "outputs": [
    {
     "data": {
      "text/plain": [
       "1    2974\n",
       "0    2006\n",
       "Name: InternetBanking, dtype: int64"
      ]
     },
     "execution_count": 30,
     "metadata": {},
     "output_type": "execute_result"
    }
   ],
   "source": [
    "df_cleanse['InternetBanking'].value_counts()"
   ]
  },
  {
   "cell_type": "code",
   "execution_count": 25,
   "id": "c87f3c9b",
   "metadata": {},
   "outputs": [
    {
     "data": {
      "image/png": "[encoded data removed]",
      "text/plain": [
       "<Figure size 1080x504 with 1 Axes>"
      ]
     },
     "metadata": {
      "needs_background": "light"
     },
     "output_type": "display_data"
    }
   ],
   "source": [
    "plt.figure(figsize=(15,7))\n",
    "sns.countplot(df['InternetBanking'],hue=df['LoanOnCard'])\n",
    "plt.show()"
   ]
  },
  {
   "cell_type": "code",
   "execution_count": 31,
   "id": "568abe3c",
   "metadata": {},
   "outputs": [
    {
     "data": {
      "text/plain": [
       "0    3514\n",
       "1    1466\n",
       "Name: CreditCard, dtype: int64"
      ]
     },
     "execution_count": 31,
     "metadata": {},
     "output_type": "execute_result"
    }
   ],
   "source": [
    "df_cleanse['CreditCard'].value_counts()"
   ]
  },
  {
   "cell_type": "code",
   "execution_count": 26,
   "id": "94d22185",
   "metadata": {},
   "outputs": [
    {
     "data": {
      "image/png": "[encoded data removed]",
      "text/plain": [
       "<Figure size 1080x504 with 1 Axes>"
      ]
     },
     "metadata": {
      "needs_background": "light"
     },
     "output_type": "display_data"
    }
   ],
   "source": [
    "plt.figure(figsize=(15,7))\n",
    "sns.countplot(df['CreditCard'],hue=df['LoanOnCard'])\n",
    "plt.show()"
   ]
  },
  {
   "cell_type": "markdown",
   "id": "dac6aeb1",
   "metadata": {},
   "source": [
    "# 3. Data Preparation and model building"
   ]
  },
  {
   "cell_type": "markdown",
   "id": "ba2aa4e8",
   "metadata": {},
   "source": [
    "3.A. Split data into X and Y\n",
    "drop ID & ZipCode. LoanOnCard is target Variable"
   ]
  },
  {
   "cell_type": "code",
   "execution_count": 27,
   "id": "61f70e56",
   "metadata": {},
   "outputs": [],
   "source": [
    "# Arrange data into independent variables and dependent variables\n",
    "X=df.drop(columns=['LoanOnCard','ID','ZipCode'])\n",
    "y=df['LoanOnCard'] #target"
   ]
  },
  {
   "cell_type": "markdown",
   "id": "a1bc9293",
   "metadata": {},
   "source": [
    "Checking on Target Imbalance"
   ]
  },
  {
   "cell_type": "code",
   "execution_count": 28,
   "id": "b8b04f62",
   "metadata": {},
   "outputs": [
    {
     "data": {
      "image/png": "[encoded data removed]",
      "text/plain": [
       "<Figure size 1224x504 with 2 Axes>"
      ]
     },
     "metadata": {
      "needs_background": "light"
     },
     "output_type": "display_data"
    }
   ],
   "source": [
    "f,axes=plt.subplots(1,2,figsize=(17,7))\n",
    "df['LoanOnCard'].value_counts().plot.pie(autopct='%1.1f%%',ax=axes[0],shadow=True)\n",
    "sns.countplot('LoanOnCard',data=df,ax=axes[1],order=[0,1])\n",
    "axes[0].set_title('LoanOnCard Variable Pie Chart')\n",
    "axes[1].set_title('LoanOnCard Variable Bar Graph')\n",
    "plt.show()"
   ]
  },
  {
   "cell_type": "markdown",
   "id": "ac771ca9",
   "metadata": {},
   "source": [
    "There is huge imbalance in target variable.\n",
    "\n",
    "If the imbalanced data is not treated beforehand, then this will degrade the performance of the classifier model. Most of the predictions will correspond to the majority class and treat the minority class features as noise in the data and ignore them. This will result in a high bias in the model.\n",
    "\n",
    "A widely adopted technique for dealing with highly unbalanced datasets is called resampling"
   ]
  },
  {
   "cell_type": "markdown",
   "id": "043c8ca2",
   "metadata": {},
   "source": [
    "3.B. Split data into train and test. Keep 25% data reserved for testing. "
   ]
  },
  {
   "cell_type": "code",
   "execution_count": 29,
   "id": "5d1aefa7",
   "metadata": {},
   "outputs": [],
   "source": [
    "# Split X and y into training and test set in 70:30 ratio\n",
    "X_train, X_test, y_train, y_test = train_test_split(X, y, test_size=0.25, random_state=10)"
   ]
  },
  {
   "cell_type": "markdown",
   "id": "afaa3d01",
   "metadata": {},
   "source": [
    "3.C Train a Supervised Learning Classification base model - Logistic Regression"
   ]
  },
  {
   "cell_type": "code",
   "execution_count": 30,
   "id": "dbf64577",
   "metadata": {},
   "outputs": [
    {
     "name": "stdout",
     "output_type": "stream",
     "text": [
      "Accuracy on Training data: 0.9461847389558233\n",
      "Accuracy on Test data: 0.9590361445783132\n"
     ]
    },
    {
     "name": "stderr",
     "output_type": "stream",
     "text": [
      "/opt/anaconda3/lib/python3.9/site-packages/sklearn/linear_model/_logistic.py:814: ConvergenceWarning: lbfgs failed to converge (status=1):\n",
      "STOP: TOTAL NO. of ITERATIONS REACHED LIMIT.\n",
      "\n",
      "Increase the number of iterations (max_iter) or scale the data as shown in:\n",
      "    https://scikit-learn.org/stable/modules/preprocessing.html\n",
      "Please also refer to the documentation for alternative solver options:\n",
      "    https://scikit-learn.org/stable/modules/linear_model.html#logistic-regression\n",
      "  n_iter_i = _check_optimize_result(\n"
     ]
    }
   ],
   "source": [
    "logit = LogisticRegression()\n",
    "logit.fit(X_train, y_train)\n",
    "logit_pred = logit.predict(X_test)\n",
    "\n",
    "print('Accuracy on Training data:',logit.score(X_train, y_train) )\n",
    "print('Accuracy on Test data:',logit.score(X_test, y_test) )"
   ]
  },
  {
   "cell_type": "markdown",
   "id": "1ff660c1",
   "metadata": {},
   "source": [
    "Observation : \n",
    "94% accuracy on training set and 95% accuracy on test set.\n",
    "\n",
    "Here training set accuracy and testing accuracy are balanced when model is built without sampling also accuracy is good"
   ]
  },
  {
   "cell_type": "markdown",
   "id": "d353be02",
   "metadata": {},
   "source": [
    "4.D. Print evaluation metrics for the model and clearly share insights. "
   ]
  },
  {
   "cell_type": "code",
   "execution_count": 31,
   "id": "2f8ea5d5",
   "metadata": {},
   "outputs": [
    {
     "data": {
      "image/png": "[encoded data removed]",
      "text/plain": [
       "<Figure size 504x360 with 2 Axes>"
      ]
     },
     "metadata": {
      "needs_background": "light"
     },
     "output_type": "display_data"
    }
   ],
   "source": [
    "cm = confusion_matrix(y_test, logit_pred, labels=[0, 1])\n",
    "\n",
    "df_cm = pd.DataFrame(cm, index = [i for i in [\"Non-Loan holders\",\"Loan holders\"]],\n",
    "                  columns = [i for i in [\"Non-Loan holders\",\"Loan holders\"]])\n",
    "plt.figure(figsize = (7,5))\n",
    "sns.heatmap(df_cm, annot=True ,fmt='g')\n",
    "plt.show()"
   ]
  },
  {
   "cell_type": "markdown",
   "id": "ebcc3165",
   "metadata": {},
   "source": [
    "In the above figure 44 and 7 are the errors in the model."
   ]
  },
  {
   "cell_type": "code",
   "execution_count": 32,
   "id": "add0f124",
   "metadata": {},
   "outputs": [
    {
     "name": "stdout",
     "output_type": "stream",
     "text": [
      "classification  Matrix:\n",
      "               precision    recall  f1-score   support\n",
      "\n",
      "           0       0.96      0.99      0.98      1118\n",
      "           1       0.92      0.65      0.76       127\n",
      "\n",
      "    accuracy                           0.96      1245\n",
      "   macro avg       0.94      0.82      0.87      1245\n",
      "weighted avg       0.96      0.96      0.96      1245\n",
      "\n"
     ]
    }
   ],
   "source": [
    "print(\"classification  Matrix:\\n\",classification_report(y_test,logit_pred))"
   ]
  },
  {
   "cell_type": "markdown",
   "id": "b574b6bd",
   "metadata": {},
   "source": [
    "Here you can see model is poor in predicting class 1 compared to class 0\n",
    "\n",
    "Accuracy is good but in this case we need to look on recall value\n",
    "\n",
    "Here Recall tells that only 65% class 1 is predicted correctly from actual values\n",
    "\n",
    "We dont have enough sample of class 1 to train the model.\n",
    "\n",
    "We will do the sampling and check how recall values improves in this case."
   ]
  },
  {
   "cell_type": "markdown",
   "id": "49fd4d8c",
   "metadata": {},
   "source": [
    "3.E Balance the data using the right balancing technique"
   ]
  },
  {
   "cell_type": "markdown",
   "id": "06241515",
   "metadata": {},
   "source": [
    "3.E i. Check distribution of the target variable"
   ]
  },
  {
   "cell_type": "code",
   "execution_count": 96,
   "id": "1b6fd342",
   "metadata": {},
   "outputs": [
    {
     "name": "stdout",
     "output_type": "stream",
     "text": [
      "Before sampling:\n",
      "0    4500\n",
      "1     480\n",
      "Name: LoanOnCard, dtype: int64\n"
     ]
    }
   ],
   "source": [
    "print(y.value_counts())"
   ]
  },
  {
   "cell_type": "code",
   "execution_count": 33,
   "id": "86c127a2",
   "metadata": {},
   "outputs": [
    {
     "name": "stderr",
     "output_type": "stream",
     "text": [
      "/opt/anaconda3/lib/python3.9/site-packages/seaborn/_decorators.py:36: FutureWarning: Pass the following variable as a keyword arg: x. From version 0.12, the only valid positional argument will be `data`, and passing other arguments without an explicit keyword will result in an error or misinterpretation.\n",
      "  warnings.warn(\n"
     ]
    },
    {
     "data": {
      "image/png": "[encoded data removed]",
      "text/plain": [
       "<Figure size 1224x504 with 2 Axes>"
      ]
     },
     "metadata": {
      "needs_background": "light"
     },
     "output_type": "display_data"
    }
   ],
   "source": [
    "f,axes=plt.subplots(1,2,figsize=(17,7))\n",
    "df['LoanOnCard'].value_counts().plot.pie(autopct='%1.1f%%',ax=axes[0],shadow=True)\n",
    "sns.countplot('LoanOnCard',data=df,ax=axes[1],order=[0,1])\n",
    "axes[0].set_title('LoanOnCard Variable Pie Chart')\n",
    "axes[1].set_title('LoanOnCard Variable Bar Graph')\n",
    "plt.show()"
   ]
  },
  {
   "cell_type": "markdown",
   "id": "dd322d46",
   "metadata": {},
   "source": [
    "Here you need to balance the target variable as 50:50."
   ]
  },
  {
   "cell_type": "code",
   "execution_count": 34,
   "id": "730eb491",
   "metadata": {},
   "outputs": [],
   "source": [
    "smote_nc=SMOTENC(categorical_features=[3,5,7,8,9,10],random_state=10) #specifying categorical column numbers\n",
    "X_s,y_s=smote_nc.fit_resample(X,y)"
   ]
  },
  {
   "cell_type": "code",
   "execution_count": 35,
   "id": "957ddd7d",
   "metadata": {},
   "outputs": [
    {
     "name": "stdout",
     "output_type": "stream",
     "text": [
      "After sampling:\n",
      "0    4500\n",
      "1    4500\n",
      "Name: LoanOnCard, dtype: int64\n"
     ]
    }
   ],
   "source": [
    "print('After sampling:')\n",
    "print(y_s.value_counts())"
   ]
  },
  {
   "cell_type": "code",
   "execution_count": null,
   "id": "76c000cb",
   "metadata": {},
   "outputs": [],
   "source": [
    "3.F Again train the same previous model on balanced data."
   ]
  },
  {
   "cell_type": "code",
   "execution_count": 36,
   "id": "039fbdc8",
   "metadata": {},
   "outputs": [],
   "source": [
    "# Split X and y into training and test set in 70:30 ratio\n",
    "X_train, X_test, y_train, y_test = train_test_split(X_s, y_s, test_size=0.30, random_state=1)"
   ]
  },
  {
   "cell_type": "code",
   "execution_count": 37,
   "id": "31465b61",
   "metadata": {},
   "outputs": [
    {
     "name": "stderr",
     "output_type": "stream",
     "text": [
      "/opt/anaconda3/lib/python3.9/site-packages/sklearn/linear_model/_logistic.py:814: ConvergenceWarning: lbfgs failed to converge (status=1):\n",
      "STOP: TOTAL NO. of ITERATIONS REACHED LIMIT.\n",
      "\n",
      "Increase the number of iterations (max_iter) or scale the data as shown in:\n",
      "    https://scikit-learn.org/stable/modules/preprocessing.html\n",
      "Please also refer to the documentation for alternative solver options:\n",
      "    https://scikit-learn.org/stable/modules/linear_model.html#logistic-regression\n",
      "  n_iter_i = _check_optimize_result(\n"
     ]
    }
   ],
   "source": [
    "logit = LogisticRegression()\n",
    "logit.fit(X_train, y_train)\n",
    "logit_pred = logit.predict(X_test)\n",
    "\n",
    "#print('Accuracy on Training data:',logit.score(X_train, y_train) )\n",
    "#print('Accuracy on Test data:',logit.score(X_test, y_test) )"
   ]
  },
  {
   "cell_type": "code",
   "execution_count": 38,
   "id": "d2b7142f",
   "metadata": {},
   "outputs": [
    {
     "name": "stdout",
     "output_type": "stream",
     "text": [
      "Accuracy on Training data: 0.9063492063492063\n",
      "Accuracy on Test data: 0.9114814814814814\n"
     ]
    }
   ],
   "source": [
    "print('Accuracy on Training data:',logit.score(X_train, y_train) )\n",
    "print('Accuracy on Test data:',logit.score(X_test, y_test) )"
   ]
  },
  {
   "cell_type": "code",
   "execution_count": 39,
   "id": "2edd741d",
   "metadata": {},
   "outputs": [
    {
     "data": {
      "image/png": "[encoded data removed]",
      "text/plain": [
       "<Figure size 504x360 with 2 Axes>"
      ]
     },
     "metadata": {
      "needs_background": "light"
     },
     "output_type": "display_data"
    }
   ],
   "source": [
    "cm = confusion_matrix(y_test, logit_pred, labels=[0, 1])\n",
    "\n",
    "df_cm = pd.DataFrame(cm, index = [i for i in [\"Non-Loan holders\",\"Loan holders\"]],\n",
    "                  columns = [i for i in [\"Non-Loan holders\",\"Loan holders\"]])\n",
    "plt.figure(figsize = (7,5))\n",
    "sns.heatmap(df_cm, annot=True ,fmt='g')\n",
    "plt.show()"
   ]
  },
  {
   "cell_type": "code",
   "execution_count": 40,
   "id": "98f749d7",
   "metadata": {},
   "outputs": [
    {
     "name": "stdout",
     "output_type": "stream",
     "text": [
      "classification  Matrix:\n",
      "               precision    recall  f1-score   support\n",
      "\n",
      "           0       0.91      0.91      0.91      1332\n",
      "           1       0.91      0.92      0.91      1368\n",
      "\n",
      "    accuracy                           0.91      2700\n",
      "   macro avg       0.91      0.91      0.91      2700\n",
      "weighted avg       0.91      0.91      0.91      2700\n",
      "\n"
     ]
    }
   ],
   "source": [
    "print(\"classification  Matrix:\\n\",classification_report(y_test,logit_pred))\n"
   ]
  },
  {
   "cell_type": "markdown",
   "id": "3d646a9a",
   "metadata": {},
   "source": [
    "Observation : \n",
    "Now we can see recall value is improved after sampling.\n",
    "\n",
    "So whenever we have imbalance target we will use sampling method to balance the data."
   ]
  },
  {
   "cell_type": "markdown",
   "id": "0e9de25d",
   "metadata": {},
   "source": [
    "# 4. Performance Improvement"
   ]
  },
  {
   "cell_type": "markdown",
   "id": "1cc4ac01",
   "metadata": {},
   "source": [
    "4.A. Train a base model each for SVM, KNN"
   ]
  },
  {
   "cell_type": "markdown",
   "id": "e2b4abca",
   "metadata": {},
   "source": [
    "KNN"
   ]
  },
  {
   "cell_type": "code",
   "execution_count": 41,
   "id": "10b31124",
   "metadata": {},
   "outputs": [],
   "source": [
    "KNN = KNeighborsClassifier(n_neighbors= 5 , metric = 'euclidean' ) #Building knn with 5 neighbors"
   ]
  },
  {
   "cell_type": "code",
   "execution_count": 42,
   "id": "2268ae49",
   "metadata": {},
   "outputs": [],
   "source": [
    "KNN.fit(X_train, y_train)\n",
    "predicted_labels = KNN.predict(X_test)"
   ]
  },
  {
   "cell_type": "code",
   "execution_count": 43,
   "id": "b762b55e",
   "metadata": {},
   "outputs": [
    {
     "name": "stdout",
     "output_type": "stream",
     "text": [
      "Accuracy on Training data: 0.9404761904761905\n",
      "Accuracy on Test data: 0.9207407407407407\n"
     ]
    }
   ],
   "source": [
    "print('Accuracy on Training data:',KNN.score(X_train, y_train) )\n",
    "print('Accuracy on Test data:',KNN.score(X_test, y_test) )"
   ]
  },
  {
   "cell_type": "code",
   "execution_count": 44,
   "id": "32ed70b0",
   "metadata": {},
   "outputs": [
    {
     "data": {
      "image/png": "[encoded data removed]",
      "text/plain": [
       "<Figure size 504x360 with 2 Axes>"
      ]
     },
     "metadata": {
      "needs_background": "light"
     },
     "output_type": "display_data"
    }
   ],
   "source": [
    "cm = confusion_matrix(y_test, logit_pred, labels=[0, 1])\n",
    "\n",
    "df_cm = pd.DataFrame(cm, index = [i for i in [\"Non-Loan holders\",\"Loan holders\"]],\n",
    "                  columns = [i for i in [\"Non-Loan holders\",\"Loan holders\"]])\n",
    "plt.figure(figsize = (7,5))\n",
    "sns.heatmap(df_cm, annot=True ,fmt='g')\n",
    "plt.show()"
   ]
  },
  {
   "cell_type": "code",
   "execution_count": 45,
   "id": "7350e6e7",
   "metadata": {},
   "outputs": [
    {
     "name": "stdout",
     "output_type": "stream",
     "text": [
      "classification  Matrix:\n",
      "               precision    recall  f1-score   support\n",
      "\n",
      "           0       0.97      0.87      0.92      1332\n",
      "           1       0.88      0.97      0.93      1368\n",
      "\n",
      "    accuracy                           0.92      2700\n",
      "   macro avg       0.93      0.92      0.92      2700\n",
      "weighted avg       0.93      0.92      0.92      2700\n",
      "\n"
     ]
    }
   ],
   "source": [
    "print(\"classification  Matrix:\\n\",classification_report(y_test,predicted_labels))"
   ]
  },
  {
   "cell_type": "markdown",
   "id": "7f26d142",
   "metadata": {},
   "source": [
    "F1 Score is increaed .2 to  0.93 "
   ]
  },
  {
   "cell_type": "markdown",
   "id": "230ff22e",
   "metadata": {},
   "source": [
    "SVM"
   ]
  },
  {
   "cell_type": "code",
   "execution_count": 61,
   "id": "6190633f",
   "metadata": {},
   "outputs": [
    {
     "data": {
      "text/plain": [
       "SVC()"
      ]
     },
     "execution_count": 61,
     "metadata": {},
     "output_type": "execute_result"
    }
   ],
   "source": [
    "svc_model = SVC(kernel='rbf')\n",
    "svc_model.fit(X_train, y_train)"
   ]
  },
  {
   "cell_type": "code",
   "execution_count": 62,
   "id": "a3fa6416",
   "metadata": {},
   "outputs": [
    {
     "name": "stdout",
     "output_type": "stream",
     "text": [
      "0.8784126984126984\n",
      "0.8866666666666667\n"
     ]
    }
   ],
   "source": [
    "\n",
    "print(svc_model.score(X_train, y_train))\n",
    "print(svc_model.score(X_test, y_test))"
   ]
  },
  {
   "cell_type": "code",
   "execution_count": 63,
   "id": "18b40ba4",
   "metadata": {},
   "outputs": [
    {
     "name": "stdout",
     "output_type": "stream",
     "text": [
      "0.8655555555555555\n",
      "0.8781481481481481\n"
     ]
    }
   ],
   "source": [
    "svc_model  = SVC(kernel='poly')\n",
    "svc_model.fit(X_train, y_train)\n",
    "  \n",
    "prediction = svc_model.predict(X_test)\n",
    "  \n",
    "print(svc_model.score(X_train, y_train))\n",
    "print(svc_model.score(X_test, y_test))"
   ]
  },
  {
   "cell_type": "code",
   "execution_count": 64,
   "id": "05166a25",
   "metadata": {},
   "outputs": [
    {
     "name": "stdout",
     "output_type": "stream",
     "text": [
      "Confusion Matrix:\n",
      " [[1160  157]\n",
      " [ 172 1211]]\n"
     ]
    }
   ],
   "source": [
    "print(\"Confusion Matrix:\\n\",confusion_matrix(prediction,y_test))"
   ]
  },
  {
   "cell_type": "markdown",
   "id": "ee2cd85b",
   "metadata": {},
   "source": [
    "Observation & Improvement \n",
    "\n",
    "Sampling improved to predict minority classes as well\n",
    "\n",
    "Suggesting to collect data equally for both the classes.\n",
    "\n",
    "Few customers does't have credit card but those customer having loan on card. This data error can be avoided"
   ]
  }
 ],
 "metadata": {
  "kernelspec": {
   "display_name": "Python 3 (ipykernel)",
   "language": "python",
   "name": "python3"
  },
  "language_info": {
   "codemirror_mode": {
    "name": "ipython",
    "version": 3
   },
   "file_extension": ".py",
   "mimetype": "text/x-python",
   "name": "python",
   "nbconvert_exporter": "python",
   "pygments_lexer": "ipython3",
   "version": "3.9.7"
  }
 },
 "nbformat": 4,
 "nbformat_minor": 5
}
